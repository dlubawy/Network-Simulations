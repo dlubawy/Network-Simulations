{
 "cells": [
  {
   "cell_type": "code",
   "execution_count": 2,
   "metadata": {
    "collapsed": true
   },
   "outputs": [],
   "source": [
    "%matplotlib inline\n",
    "from pylab import *\n",
    "import numpy as np\n",
    "import random as rand"
   ]
  },
  {
   "cell_type": "code",
   "execution_count": 19,
   "metadata": {
    "collapsed": false
   },
   "outputs": [
    {
     "name": "stdout",
     "output_type": "stream",
     "text": [
      "Blocking Probability:  0.0888194986556\n",
      "Average arrival:  0.219399036366\n",
      "Average served:  0.206104890424\n"
     ]
    },
    {
     "data": {
      "image/png": "[encoded data removed]",
      "text/plain": [
       "<matplotlib.figure.Figure at 0x6fffb23c0f0>"
      ]
     },
     "metadata": {},
     "output_type": "display_data"
    }
   ],
   "source": [
    "k = 5\n",
    "mu = 5\n",
    "la = 4\n",
    "rho = la/mu\n",
    "pb = np.power(rho,k) * ((1-rho)/(1-np.power(rho, k+1)))\n",
    "print(\"Blocking Probability: \", pb)\n",
    "\n",
    "a = []\n",
    "s = []\n",
    "for i in range(0,100):\n",
    "    a.append(rand.expovariate(la))\n",
    "    s.append(rand.expovariate(mu)) \n",
    "t = np.arange(0,2,0.1)\n",
    "hist(a,t,label=\"Arrivals\")\n",
    "hist(s,t,label=\"Served\")\n",
    "title(\"Interarrival Time of Packets\")\n",
    "ylabel(\"Number of packets\")\n",
    "xlabel(\"Time(s)\")\n",
    "legend(loc=\"upper right\")\n",
    "\n",
    "print(\"Average arrival: \", average(a))\n",
    "print(\"Average served: \", average(s))\n",
    "\n",
    "show()"
   ]
  },
  {
   "cell_type": "code",
   "execution_count": null,
   "metadata": {
    "collapsed": true
   },
   "outputs": [],
   "source": []
  }
 ],
 "metadata": {
  "kernelspec": {
   "display_name": "Python 3",
   "language": "python",
   "name": "python3"
  },
  "language_info": {
   "codemirror_mode": {
    "name": "ipython",
    "version": 3
   },
   "file_extension": ".py",
   "mimetype": "text/x-python",
   "name": "python",
   "nbconvert_exporter": "python",
   "pygments_lexer": "ipython3",
   "version": "3.4.5"
  }
 },
 "nbformat": 4,
 "nbformat_minor": 2
}

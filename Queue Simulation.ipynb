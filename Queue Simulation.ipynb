{
 "cells": [
  {
   "cell_type": "code",
   "execution_count": 141,
   "metadata": {
    "collapsed": true
   },
   "outputs": [],
   "source": [
    "%matplotlib inline\n",
    "from pylab import *\n",
    "import numpy as np\n",
    "from collections import deque"
   ]
  },
  {
   "cell_type": "code",
   "execution_count": 171,
   "metadata": {
    "collapsed": false,
    "deletable": true,
    "editable": true
   },
   "outputs": [],
   "source": [
    "class Queue:\n",
    "    \"\"\"A queue for use in simulating M/M/1/k.\n",
    "    \n",
    "    Attributes:\n",
    "        k (int): Maximum customers allowed in the system.\n",
    "        departures (list): A sample of departure intervals.\n",
    "        queue (list): A deque object.\n",
    "        dropped (int): Number of items dropped because queue was full.\n",
    "    \"\"\"\n",
    "    \n",
    "    def __init__(self, k, mu, departures):\n",
    "        \"\"\"Forms a queue.\n",
    "\n",
    "        Args:\n",
    "            k (int): Maximum customers allowed in the system.\n",
    "            mu (float): Rate out of the queue.\n",
    "            departures (int): Number of departure intervals to generate.\n",
    "        \"\"\"\n",
    "        self.k = k\n",
    "        self.departures = exponential(1/mu, departures)\n",
    "        self.queue = deque([], k)\n",
    "        self.dropped = 0\n",
    "        \n",
    "    def is_empty(self):\n",
    "        \"\"\"Checks if the queue is empty.\n",
    "        \n",
    "        Returns:\n",
    "            True if empty, False otherwise.\n",
    "        \"\"\"\n",
    "        return len(self.queue) is 0\n",
    "    \n",
    "    def is_full(self):\n",
    "        \"\"\"Checks if the queue is full.\n",
    "        \n",
    "        Returns:\n",
    "            True if full, False otherwise.\n",
    "        \"\"\"\n",
    "        return len(self.queue) is self.k\n",
    "    \n",
    "    def enqueue(self, item):\n",
    "        \"\"\"Adds an item to end of the queue.\n",
    "        \n",
    "        Args:\n",
    "            item: An item to add to the queue.\n",
    "        \"\"\"\n",
    "        if self.is_full():\n",
    "            self.dropped += 1\n",
    "        else:\n",
    "            self.queue.append(item)\n",
    "        \n",
    "    def dequeue(self):\n",
    "        \"\"\"Removes the fist item from the queue.\"\"\"\n",
    "        if not self.is_empty():\n",
    "            self.queue.popleft()"
   ]
  },
  {
   "cell_type": "code",
   "execution_count": 211,
   "metadata": {
    "collapsed": false
   },
   "outputs": [],
   "source": [
    "def simulation(lamb, mu, k, phi=0.5, samples=6000):\n",
    "    \"\"\"Used to run a simulation of an M/M/1/k network.\n",
    "    \n",
    "    Args:\n",
    "        lamb (float): The rate into the entire network.\n",
    "        mu (float): The rate out of the two queues in the network.\n",
    "        k (int): Maximum number of customers the two queues can handle. \n",
    "        samples (int): Number of packets to sample. Defaults to 6000.\n",
    "        phi (float): Probability an arrival goes to the first queue.\n",
    "    \"\"\"\n",
    "    queue1 = Queue(k, mu, samples)\n",
    "    queue2 = Queue(k, mu, samples)\n",
    "    # A sample of arrivals.\n",
    "    arrivals = exponential(1/lamb, samples)\n",
    "    # Counts arrivals to each node.\n",
    "    queue1_arrivals, queue2_arrivals = 0, 0\n",
    "    # Count time passed.\n",
    "    time = 0\n",
    "    # Indexes for sample space lists.\n",
    "    j, k, l = 0, 0, 0\n",
    "    # Iterate over entire sample of arrivals.\n",
    "    for i in range(0, samples):\n",
    "        # Idle state, ignores output rates.\n",
    "        if time is 0:\n",
    "            if random() < phi:\n",
    "                queue1_arrivals += 1\n",
    "                queue1.enqueue(\"a\")\n",
    "            else:\n",
    "                queue2_arrivals += 1\n",
    "                queue2.enqueue(\"a\")\n",
    "            # Increments time by one arrival interval.\n",
    "            time += arrivals[i]\n",
    "        else:\n",
    "            # Checks if the server processed a packet before the next arrival.\n",
    "            if queue1.departures[j] <= time or queue2.departures[k] <= time:\n",
    "                # Dequeues any packets that should have been processed\n",
    "                # before the next arrival.\n",
    "                while queue1.departures[j] <= time:\n",
    "                    queue1.dequeue()\n",
    "                    # Sums the intervals to compare with time since arrival.\n",
    "                    queue1.departures[j+1] += queue1.departures[j]\n",
    "                    j += 1\n",
    "                while queue2.departures[k] <= time:\n",
    "                    queue2.dequeue()\n",
    "                    queue2.departures[k+1] += queue2.departures[k]\n",
    "                    k += 1\n",
    "            # Splits arrivals based on phi probability.\n",
    "            if random() < phi:\n",
    "                queue1_arrivals += 1\n",
    "                queue1.enqueue(\"a\")\n",
    "            else:\n",
    "                queue2_arrivals += 1\n",
    "                queue2.enqueue(\"a\")\n",
    "            # Increments time by one arrival interval.\n",
    "            time += arrivals[i]\n",
    "        \n",
    "    return time, queue1.dropped/queue1_arrivals\n",
    "\n",
    "def eval_blocking(lamb, mu, k, phi=None):\n",
    "    if phi is None:\n",
    "        rho = lamb/mu\n",
    "    else:\n",
    "        rho = (lamb*phi)/mu\n",
    "    return rho**k*((1-rho)/(1-rho**(k+1)))"
   ]
  },
  {
   "cell_type": "code",
   "execution_count": 217,
   "metadata": {
    "collapsed": false
   },
   "outputs": [
    {
     "name": "stdout",
     "output_type": "stream",
     "text": [
      "(759.08395692648469, 0.13465291329802062)\n",
      "0.15013154146406452\n"
     ]
    }
   ],
   "source": [
    "print(simulation(8, 5, 5, 0.6))"
   ]
  },
  {
   "cell_type": "code",
   "execution_count": null,
   "metadata": {
    "collapsed": true
   },
   "outputs": [],
   "source": []
  }
 ],
 "metadata": {
  "kernelspec": {
   "display_name": "Python 3",
   "language": "python",
   "name": "python3"
  },
  "language_info": {
   "codemirror_mode": {
    "name": "ipython",
    "version": 3
   },
   "file_extension": ".py",
   "mimetype": "text/x-python",
   "name": "python",
   "nbconvert_exporter": "python",
   "pygments_lexer": "ipython3",
   "version": "3.4.5"
  }
 },
 "nbformat": 4,
 "nbformat_minor": 2
}

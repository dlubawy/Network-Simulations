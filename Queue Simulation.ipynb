{
 "cells": [
  {
   "cell_type": "code",
   "execution_count": 1,
   "metadata": {
    "collapsed": true,
    "deletable": true,
    "editable": true
   },
   "outputs": [],
   "source": [
    "%matplotlib inline\n",
    "from pylab import *\n",
    "import numpy as np\n",
    "from collections import deque"
   ]
  },
  {
   "cell_type": "code",
   "execution_count": 19,
   "metadata": {
    "collapsed": false,
    "deletable": true,
    "editable": true
   },
   "outputs": [],
   "source": [
    "class Queue:\n",
    "    \"\"\"A queue for use in simulating M/M/1/k.\n",
    "    \n",
    "    Attributes:\n",
    "        k (int): Maximum customers allowed in the system.\n",
    "        departures (list): A sample of departure intervals.\n",
    "        queue (list): A deque object.\n",
    "        dropped (int): Number of items dropped because queue was full.\n",
    "        served (int): Number of items served from queue.\n",
    "    \"\"\"\n",
    "    \n",
    "    def __init__(self, k, mu, departures):\n",
    "        \"\"\"Forms a queue.\n",
    "\n",
    "        Args:\n",
    "            k (int): Maximum customers allowed in the system.\n",
    "            mu (float): Rate out of the queue.\n",
    "            departures (int): Number of departure intervals to generate.\n",
    "        \"\"\"\n",
    "        self.k = k\n",
    "        self.departures = exponential(1/mu, departures)\n",
    "        self.queue = deque([], k)\n",
    "        self.dropped = 0\n",
    "        self.served = 0\n",
    "        \n",
    "    def is_empty(self):\n",
    "        \"\"\"Checks if the queue is empty.\n",
    "        \n",
    "        Returns:\n",
    "            True if empty, False otherwise.\n",
    "        \"\"\"\n",
    "        return len(self.queue) is 0\n",
    "    \n",
    "    def is_full(self):\n",
    "        \"\"\"Checks if the queue is full.\n",
    "        \n",
    "        Returns:\n",
    "            True if full, False otherwise.\n",
    "        \"\"\"\n",
    "        return len(self.queue) is self.k\n",
    "    \n",
    "    def enqueue(self, item):\n",
    "        \"\"\"Adds an item to end of the queue.\n",
    "        \n",
    "        Args:\n",
    "            item: An item to add to the queue.\n",
    "        \"\"\"\n",
    "        if self.is_full():\n",
    "            self.dropped += 1\n",
    "        else:\n",
    "            self.queue.append(item)\n",
    "        \n",
    "    def dequeue(self):\n",
    "        \"\"\"Removes the fist item from the queue.\"\"\"\n",
    "        if not self.is_empty():\n",
    "            self.served += 1\n",
    "            return self.queue.popleft()\n",
    "        return -1\n",
    "            \n",
    "    def get_size(self):\n",
    "        \"\"\"Get the size of the queue.\n",
    "        \n",
    "        Returns:\n",
    "            An integer for the size of the queue.\n",
    "        \"\"\"\n",
    "        return len(self.queue)"
   ]
  },
  {
   "cell_type": "code",
   "execution_count": 166,
   "metadata": {
    "collapsed": false,
    "deletable": true,
    "editable": true
   },
   "outputs": [],
   "source": [
    "def simulation(lamb, mu, k, phi=0.5, samples=6000):\n",
    "    \"\"\"Used to run a simulation of an M/M/1/k network.\n",
    "    \n",
    "    Args:\n",
    "        lamb (float): The rate into the entire network.\n",
    "        mu (float): The rate out of the two queues in the network.\n",
    "        k (int): Maximum number of customers the two queues can handle. \n",
    "        samples (int): Number of packets to sample. Defaults to 6000.\n",
    "        phi (float): Probability an arrival goes to the first queue.\n",
    "    \"\"\"\n",
    "    queue1 = Queue(k, mu, samples*2)\n",
    "    queue2 = Queue(k, mu, samples*2)\n",
    "    # Counts arrivals to each node.\n",
    "    queue1_arrivals, queue2_arrivals = 0, 0\n",
    "    # Count time passed.\n",
    "    time = 0\n",
    "    # Indexes for sample space lists.\n",
    "    i, j, n, m = 0, 0, 0, 0\n",
    "    # Lists for obtaining average number of packets in queue.\n",
    "    queue1_size, queue2_size = [], []\n",
    "    queue1_time, queue2_time = [0], [0]\n",
    "    # Iterate over entire sample of arrivals.\n",
    "    while queue1.served < samples and queue2.served < samples:\n",
    "        # Generate an interarrival time.\n",
    "        arrivals = exponential(1/lamb)\n",
    "        # Idle state, ignores output rates.\n",
    "        if time is 0:\n",
    "            if random() < phi:\n",
    "                queue1_arrivals += 1\n",
    "                queue1.enqueue(0)\n",
    "            else:\n",
    "                queue2_arrivals += 1\n",
    "                queue2.enqueue(0)\n",
    "            # Increments time by one arrival interval.\n",
    "            time += arrivals\n",
    "        else:\n",
    "            # Checks if the server processed a packet before the next arrival.\n",
    "            if queue1.departures[i] <= time or queue2.departures[j] <= time:\n",
    "                # Dequeues any packets that should have been processed\n",
    "                # before the next arrival.\n",
    "                while queue1.departures[i] <= time:\n",
    "                    t = queue1.dequeue() \n",
    "                    if t is not -1:\n",
    "                        queue1_time.append(time - t)\n",
    "                    # Sums the intervals to compare with time since arrival.\n",
    "                    queue1.departures[i+1] += queue1.departures[i]\n",
    "                    i += 1\n",
    "                    if queue1.served > 1000:\n",
    "                        queue1_size.append(queue1.get_size())\n",
    "                while queue2.departures[j] <= time:\n",
    "                    t = queue2.dequeue() \n",
    "                    if t is not -1:\n",
    "                        queue2_time.append(time - t)\n",
    "                    queue2.departures[j+1] += queue2.departures[j]\n",
    "                    j += 1\n",
    "                    if queue2.served > 1000:\n",
    "                        queue2_size.append(queue2.get_size())\n",
    "            # Splits arrivals based on phi probability.\n",
    "            if random() < phi:\n",
    "                queue1_arrivals += 1\n",
    "                queue1.enqueue(time)\n",
    "            else:\n",
    "                queue2_arrivals += 1\n",
    "                queue2.enqueue(time)\n",
    "            if queue1.served > 1000 or queue2.served > 1000:\n",
    "                queue1_size.append(queue1.get_size())\n",
    "                queue2_size.append(queue2.get_size())\n",
    "            # Increments time by one arrival interval.\n",
    "            time += arrivals\n",
    "        \n",
    "    return time, queue1.dropped/queue1_arrivals, queue1.served, average(queue2_size), average(queue1_time), average(queue2_time)\n",
    "\n",
    "def eval_blocking(lamb, mu, k, phi=None):\n",
    "    \"\"\"Finds the blocking probability of a queue.\n",
    "    \n",
    "    Args:\n",
    "        lamb: The rate into the queue.\n",
    "        mu: The rate out of the queue.\n",
    "        k: Maximum number of customers able to be in the queue.\n",
    "        phi: The probability for the arrival to be sent to the first queue. Defaults to None.\n",
    "    \"\"\"\n",
    "    if phi is None:\n",
    "        rho = lamb/mu\n",
    "    else:\n",
    "        rho = (lamb*phi)/mu\n",
    "    return rho**k*((1-rho)/(1-rho**(k+1)))"
   ]
  },
  {
   "cell_type": "code",
   "execution_count": 167,
   "metadata": {
    "collapsed": false,
    "deletable": true,
    "editable": true
   },
   "outputs": [
    {
     "name": "stdout",
     "output_type": "stream",
     "text": [
      "(1243.0370404004677, 0.40159441953163927, 6000, 0.0, 0.89459311954301268, 0.0)\n",
      "0.08881949865556424\n"
     ]
    }
   ],
   "source": [
    "print(simulation(8, 5, 5, 1, 6000))\n",
    "print(eval_blocking(8,5,5,0.5))"
   ]
  },
  {
   "cell_type": "code",
   "execution_count": null,
   "metadata": {
    "collapsed": false
   },
   "outputs": [],
   "source": [
    "q = Queue(5,5,5)\n",
    "q.enqueue(123)\n",
    "q.enqueue(321)\n",
    "print(q.dequeue())"
   ]
  },
  {
   "cell_type": "code",
   "execution_count": null,
   "metadata": {
    "collapsed": true
   },
   "outputs": [],
   "source": []
  }
 ],
 "metadata": {
  "kernelspec": {
   "display_name": "Python 3",
   "language": "python",
   "name": "python3"
  },
  "language_info": {
   "codemirror_mode": {
    "name": "ipython",
    "version": 3
   },
   "file_extension": ".py",
   "mimetype": "text/x-python",
   "name": "python",
   "nbconvert_exporter": "python",
   "pygments_lexer": "ipython3",
   "version": "3.4.5"
  }
 },
 "nbformat": 4,
 "nbformat_minor": 2
}

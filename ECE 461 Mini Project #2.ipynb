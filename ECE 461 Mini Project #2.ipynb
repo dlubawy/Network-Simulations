{
 "cells": [
  {
   "cell_type": "markdown",
   "metadata": {
    "deletable": true,
    "editable": true
   },
   "source": [
    "**Andrew Lubawy, EE**\n",
    "\n",
    "**Due: 4/18/2017**\n",
    "# Simulation and Analysis of a Circuit-Switched Optical Network with Wavelength-Division Multiplexing\n",
    "\n",
    "***\n",
    "\n",
    "## Code"
   ]
  },
  {
   "cell_type": "code",
   "execution_count": 1,
   "metadata": {
    "collapsed": true,
    "deletable": true,
    "editable": true
   },
   "outputs": [],
   "source": [
    "%matplotlib inline\n",
    "from pylab import *\n",
    "import numpy as np\n",
    "from scipy.special import factorial\n",
    "from collections import deque\n",
    "\n",
    "def metric(dropped, m):\n",
    "    \"\"\"Prints the metrics for the simulation in a graph.\n",
    "    \n",
    "    Args:\n",
    "        dropped: The number of dropped connections.\n",
    "        m: The number of links for each node.\n",
    "    \"\"\"\n",
    "    figure(1)\n",
    "    plot(m, dropped)\n",
    "    ylabel(\"Dropped Connections\")\n",
    "    xlabel(\"Number of Wavelengths\")\n",
    "    title(\"Dropped Connections vs Number of Wavelengths\")\n",
    "    show()"
   ]
  },
  {
   "cell_type": "markdown",
   "metadata": {},
   "source": [
    "This code provides a simulation of a regular optical switching network with wave division multiplexing. It works by keeping track of nodes using a list of lists which tracks what links for each node are open or busy. It will add arrivals to a time counter and drop any connections that had departure times before that arrival. It will then find a route between the start and end node points in the connection which are choden at random. If there isn't one, it will increment a dropped counter otherwise it will add a new departure time to the list making tracking easier."
   ]
  },
  {
   "cell_type": "code",
   "execution_count": 2,
   "metadata": {
    "collapsed": false,
    "deletable": true,
    "editable": true
   },
   "outputs": [],
   "source": [
    "def simulate_WDM(lamb, mu, n, m, samples):\n",
    "    \"\"\"A simulation for circuit-switched optical network.\n",
    "    \n",
    "    Simulates wavelength division multiplexing. Connections enter\n",
    "    a random node and exit from a random node. Only one wavelength will\n",
    "    be used per route in the network.\n",
    "    \n",
    "    Args:\n",
    "        lamb (float): Arrival rate for incoming connections.\n",
    "        mu (float): The duration rate for connections.\n",
    "        n (int): The number of nodes in the network.\n",
    "        m (int): The number of links for each node.\n",
    "        samples (int): The number of connection requests to sample.\n",
    "    \"\"\"\n",
    "    # Dropped connection counter.\n",
    "    dropped = 0\n",
    "    # Runtime tracker.\n",
    "    time = 0\n",
    "    # List containing each node in system.\n",
    "    node = [];\n",
    "    # A helper list to track the state of links.\n",
    "    link = [];\n",
    "    # Add links to list.\n",
    "    for i in range(0, m):\n",
    "        link.append(False)\n",
    "    # Add nodes to list.\n",
    "    for i in range(0, n):\n",
    "        node.append([])\n",
    "        # Add links for each node.\n",
    "        for j in range(0, m):\n",
    "            node[i].append(False)\n",
    "    # Begin simulation for amount of samples inputted.\n",
    "    for i in range(0, samples):\n",
    "        # Reset helper link list.\n",
    "        for j in range(0, m):\n",
    "            link[j] = False\n",
    "        enter, exit = 0, 0\n",
    "        # Add an arrival interval to time.\n",
    "        time += exponential(1/lamb)\n",
    "        # Generate a connection time interval for the arrival.\n",
    "        departure = exponential(1/mu)\n",
    "        # Generate random start node and exit node,\n",
    "        # since order doesn't matter I prefer the traversal\n",
    "        # to happen from left to right.\n",
    "        while enter is exit:\n",
    "            r1 = randint(0,n-1)\n",
    "            r2 = randint(0, n-1)\n",
    "            enter = min(r1, r2)\n",
    "            exit = max(r1, r2)\n",
    "        # Remove any ended connections before the current time.\n",
    "        for j in range(enter, exit):\n",
    "            for k in range(0, m):\n",
    "                if node[j][k] is not False and node[j][k] <= time:\n",
    "                    node[j][k] = False\n",
    "        # Determine available links for route.\n",
    "        for j in range(enter, exit):\n",
    "            for k in range(0, m):\n",
    "                if j is enter:\n",
    "                    if node[j][k] is False and link[k] is False:\n",
    "                        link[k] = True\n",
    "                else:\n",
    "                    if node[j][k] is not False and link[k] is True:\n",
    "                        link[k] = False\n",
    "            # If anytime there are no available links,\n",
    "            # then the connection cannot be established\n",
    "            # and it is dropped.\n",
    "            if link.count(True) is 0:\n",
    "                dropped += 1\n",
    "                break\n",
    "        # If there are any routes available setup the connection.\n",
    "        if True in link:\n",
    "            for j in range(enter, exit):\n",
    "                k = link.index(True)\n",
    "                node[j][k] = time + departure\n",
    "    print(\"\\nSimulation of WDM with {0} nodes and W={1}\\n\".format(n,m))\n",
    "    print(\"Simulated dropped probability: {0}\\n\".format(dropped/samples))\n",
    "    return dropped"
   ]
  },
  {
   "cell_type": "markdown",
   "metadata": {},
   "source": [
    "This code performs the same function as above with the exception of random start and end nodes. The start node will always be the first node and the end node will always be the last node. This is effectively an M/M/c/c network."
   ]
  },
  {
   "cell_type": "code",
   "execution_count": 3,
   "metadata": {
    "collapsed": true,
    "deletable": true,
    "editable": true
   },
   "outputs": [],
   "source": [
    "def simulate_max_travel(lamb, mu, n, m, samples):\n",
    "    \"\"\"A simulation for circuit-switched optical network.\n",
    "    \n",
    "    Same as simulate_WDM, but connections will traverse the entire network\n",
    "    and are no longer random as a result.\n",
    "    \n",
    "    Args:\n",
    "        lamb (float): Arrival rate for incoming connections.\n",
    "        mu (float): The duration rate for connections.\n",
    "        n (int): The number of nodes in the network.\n",
    "        m (int): The number of links for each node.\n",
    "        samples (int): The number of connection requests to sample.\n",
    "    \"\"\"\n",
    "    # Dropped connection counter.\n",
    "    dropped = 0\n",
    "    # Time counter.\n",
    "    time = 0\n",
    "    node = [];\n",
    "    link = [];\n",
    "    for i in range(0, m):\n",
    "        link.append(False)\n",
    "    for i in range(0, n):\n",
    "        node.append([])\n",
    "        for j in range(0, m):\n",
    "            node[i].append(False)\n",
    "    for i in range(0, samples):\n",
    "        # Reset link helper.\n",
    "        for j in range(0, m):\n",
    "            link[j] = False\n",
    "        # Not random, set route to number of nodes.\n",
    "        enter, exit = 0, n-1\n",
    "        time += exponential(1/lamb)\n",
    "        departure = exponential(1/mu)\n",
    "        for j in range(enter, exit):\n",
    "            for k in range(0, m):\n",
    "                if node[j][k] is not False and node[j][k] <= time:\n",
    "                    node[j][k] = False\n",
    "        for j in range(enter, exit):\n",
    "            for k in range(0, m):\n",
    "                if j is enter:\n",
    "                    if node[j][k] is False and link[k] is False:\n",
    "                        link[k] = True\n",
    "                else:\n",
    "                    if node[j][k] is not False and link[k] is True:\n",
    "                        link[k] = False\n",
    "            if link.count(True) is 0:\n",
    "                dropped += 1\n",
    "                break\n",
    "        if True in link:\n",
    "            for j in range(enter, exit):\n",
    "                k = link.index(True)\n",
    "                node[j][k] = time + departure\n",
    "    a = lamb/mu\n",
    "    l = []\n",
    "    top = (a**m)/factorial(m, True)\n",
    "    for i in range(0, m):\n",
    "        l.append((a**i)/factorial(i, True))\n",
    "    bottom = sum(l) + top\n",
    "    erlangb = top/bottom\n",
    "    print(\"\\nSimulation of max traversal WDM (M/M/c/c) with {0} nodes and W={1}\\n\".format(n,m))\n",
    "    print(\"Expected drop probability: {0}\\n\".format(erlangb))\n",
    "    print(\"Simulated drop probability: {0}\\n\".format(dropped/samples))\n",
    "    return dropped"
   ]
  },
  {
   "cell_type": "markdown",
   "metadata": {},
   "source": [
    "This code also does the same as the above, but the route finding method is less strict. The route can be any wavelength so long as it is open, so it should drop less than the above."
   ]
  },
  {
   "cell_type": "code",
   "execution_count": 4,
   "metadata": {
    "collapsed": true,
    "deletable": true,
    "editable": true
   },
   "outputs": [],
   "source": [
    "def simulate_w_conversion(lamb, mu, n, m, samples):\n",
    "    \"\"\"A simulation for circuit-switched optical network.\n",
    "    \n",
    "    Same as simulate_WDM, but multiple wavelengths can be used for a route.\n",
    "    \n",
    "    Args:\n",
    "        lamb (float): Arrival rate for incoming connections.\n",
    "        mu (float): The duration rate for connections.\n",
    "        n (int): The number of nodes in the network.\n",
    "        m (int): The number of links for each node.\n",
    "        samples (int): The number of connection requests to sample.\n",
    "    \"\"\"\n",
    "    dropped = 0\n",
    "    time = 0\n",
    "    node = [];\n",
    "    link = [];\n",
    "    for i in range(0, m):\n",
    "        link.append(False)\n",
    "    for i in range(0, n):\n",
    "        node.append([])\n",
    "        for j in range(0, m):\n",
    "            node[i].append(False)\n",
    "    for i in range(0, samples):\n",
    "        skip = False\n",
    "        enter, exit = 0, 0\n",
    "        time += exponential(1/lamb)\n",
    "        departure = exponential(1/mu)\n",
    "        while enter is exit:\n",
    "            r1 = randint(0,n-1)\n",
    "            r2 = randint(0, n-1)\n",
    "            enter = min(r1, r2)\n",
    "            exit = max(r1, r2)\n",
    "        for j in range(enter, exit):\n",
    "            for k in range(0, m):\n",
    "                if node[j][k] is not False and node[j][k] <= time:\n",
    "                    node[j][k] = False\n",
    "        # Just check to see if any link is available.\n",
    "        for j in range(enter, exit):\n",
    "            if node[j].count(False) is 0:\n",
    "                dropped += 1\n",
    "                skip = True\n",
    "                break\n",
    "        if skip is not True:\n",
    "            for j in range(enter, exit):\n",
    "                k = node[j].index(False)\n",
    "                node[j][k] = time + departure\n",
    "    print(\"\\nSimulation of wavelength conversion with {0} nodes and W={1}\\n\".format(n,m))\n",
    "    print(\"Simulated dropped probability: {0}\\n\".format(dropped/samples))\n",
    "    return dropped"
   ]
  },
  {
   "cell_type": "markdown",
   "metadata": {},
   "source": [
    "***\n",
    "## Results\n",
    "### Regular WDM Configuration:"
   ]
  },
  {
   "cell_type": "code",
   "execution_count": 5,
   "metadata": {
    "collapsed": false,
    "deletable": true,
    "editable": true
   },
   "outputs": [
    {
     "name": "stdout",
     "output_type": "stream",
     "text": [
      "\n",
      "Simulation of WDM with 10 nodes and W=2\n",
      "\n",
      "Simulated dropped probability: 0.4760375\n",
      "\n",
      "\n",
      "Simulation of WDM with 10 nodes and W=4\n",
      "\n",
      "Simulated dropped probability: 0.187725\n",
      "\n",
      "\n",
      "Simulation of WDM with 10 nodes and W=6\n",
      "\n",
      "Simulated dropped probability: 0.0498125\n",
      "\n",
      "\n",
      "Simulation of WDM with 10 nodes and W=8\n",
      "\n",
      "Simulated dropped probability: 0.0084\n",
      "\n",
      "\n",
      "Simulation of WDM with 10 nodes and W=10\n",
      "\n",
      "Simulated dropped probability: 0.0007625\n",
      "\n"
     ]
    },
    {
     "data": {
      "image/png": "[encoded data removed]",
      "text/plain": [
       "<matplotlib.figure.Figure at 0x6fffc7f7588>"
      ]
     },
     "metadata": {},
     "output_type": "display_data"
    }
   ],
   "source": [
    "i = 2\n",
    "dropped, m = [], []\n",
    "while i <= 10:\n",
    "    m.append(i)\n",
    "    dropped.append(simulate_WDM(5, 1, 10, i, 80000))\n",
    "    i += 2\n",
    "metric(dropped, m)"
   ]
  },
  {
   "cell_type": "markdown",
   "metadata": {},
   "source": [
    "### First to Last Node Routing Configuration:"
   ]
  },
  {
   "cell_type": "code",
   "execution_count": 6,
   "metadata": {
    "collapsed": false,
    "deletable": true,
    "editable": true
   },
   "outputs": [
    {
     "name": "stdout",
     "output_type": "stream",
     "text": [
      "\n",
      "Simulation of max traversal WDM (M/M/c/c) with 10 nodes and W=2\n",
      "\n",
      "Expected drop probability: 0.6756756756756757\n",
      "\n",
      "Simulated drop probability: 0.675275\n",
      "\n",
      "\n",
      "Simulation of max traversal WDM (M/M/c/c) with 10 nodes and W=4\n",
      "\n",
      "Expected drop probability: 0.39834289356277885\n",
      "\n",
      "Simulated drop probability: 0.40175\n",
      "\n",
      "\n",
      "Simulation of max traversal WDM (M/M/c/c) with 10 nodes and W=6\n",
      "\n",
      "Expected drop probability: 0.19184725888636503\n",
      "\n",
      "Simulated drop probability: 0.1923875\n",
      "\n",
      "\n",
      "Simulation of max traversal WDM (M/M/c/c) with 10 nodes and W=8\n",
      "\n",
      "Expected drop probability: 0.07004785220956705\n",
      "\n",
      "Simulated drop probability: 0.0694\n",
      "\n",
      "\n",
      "Simulation of max traversal WDM (M/M/c/c) with 10 nodes and W=10\n",
      "\n",
      "Expected drop probability: 0.01838457033664814\n",
      "\n",
      "Simulated drop probability: 0.01895\n",
      "\n"
     ]
    },
    {
     "data": {
      "image/png": "[encoded data removed]",
      "text/plain": [
       "<matplotlib.figure.Figure at 0x6fff9fcc278>"
      ]
     },
     "metadata": {},
     "output_type": "display_data"
    }
   ],
   "source": [
    "i = 2\n",
    "dropped, m = [], []\n",
    "while i <= 10:\n",
    "    m.append(i)\n",
    "    dropped.append(simulate_max_travel(5, 1, 10, i, 80000))\n",
    "    i += 2\n",
    "metric(dropped, m)"
   ]
  },
  {
   "cell_type": "markdown",
   "metadata": {},
   "source": [
    "### Wavelength Conversion Routing Configuration:"
   ]
  },
  {
   "cell_type": "code",
   "execution_count": 7,
   "metadata": {
    "collapsed": false,
    "deletable": true,
    "editable": true
   },
   "outputs": [
    {
     "name": "stdout",
     "output_type": "stream",
     "text": [
      "\n",
      "Simulation of wavelength conversion with 10 nodes and W=2\n",
      "\n",
      "Simulated dropped probability: 0.470125\n",
      "\n",
      "\n",
      "Simulation of wavelength conversion with 10 nodes and W=4\n",
      "\n",
      "Simulated dropped probability: 0.1761625\n",
      "\n",
      "\n",
      "Simulation of wavelength conversion with 10 nodes and W=6\n",
      "\n",
      "Simulated dropped probability: 0.0438375\n",
      "\n",
      "\n",
      "Simulation of wavelength conversion with 10 nodes and W=8\n",
      "\n",
      "Simulated dropped probability: 0.0064625\n",
      "\n",
      "\n",
      "Simulation of wavelength conversion with 10 nodes and W=10\n",
      "\n",
      "Simulated dropped probability: 0.0006875\n",
      "\n"
     ]
    },
    {
     "data": {
      "image/png": "[encoded data removed]",
      "text/plain": [
       "<matplotlib.figure.Figure at 0x6fff9eb5550>"
      ]
     },
     "metadata": {},
     "output_type": "display_data"
    }
   ],
   "source": [
    "i = 2\n",
    "dropped, m = [], []\n",
    "while i <= 10:\n",
    "    m.append(i)\n",
    "    dropped.append(simulate_w_conversion(5, 1, 10, i, 80000))\n",
    "    i += 2\n",
    "metric(dropped, m)"
   ]
  },
  {
   "cell_type": "markdown",
   "metadata": {
    "collapsed": true,
    "deletable": true,
    "editable": true
   },
   "source": [
    "***\n",
    "## Conclusions\n",
    "The first configuration makes sense. As more frequencies are added to the nodes, the number of dropped connections decreases. It is interesting to see it dropping exponentially, but this is to be expected. Increasing the number of links in the network will only give so much improvement so long as the links are being fully utilized. This ties into the $a=\\lambda/\\mu$ value.\n",
    "\n",
    "The second configuration also follows my prediction. It behaves like an M/M/c/c network. My simulated results were also within my calculations for an M/M/c/c network using Eralng B to find the theoretical dropping probability. This provides a good metric to determine if my first configuration numbers are at least close to where they should be. Those numbers should be smaller than the second configuration numbers because the length of the route is changing while this configuration is the worst-case length for the first cnfiguration.\n",
    "\n",
    "The third configuration had very interesting results. It showed minimal performance gain when compared to the first configuration. If wavelength conversion really is expensive technology then I am inclined to believe it is not worth the price according to my simulated numbers. However, at the higher links counts, I did notice drastic performance increase where conversion halved the dropped connections. This may be something to consider if extreme reliability is a factor and if there are enough links to utilize the network well enough."
   ]
  }
 ],
 "metadata": {
  "kernelspec": {
   "display_name": "Python 3",
   "language": "python",
   "name": "python3"
  },
  "language_info": {
   "codemirror_mode": {
    "name": "ipython",
    "version": 3
   },
   "file_extension": ".py",
   "mimetype": "text/x-python",
   "name": "python",
   "nbconvert_exporter": "python",
   "pygments_lexer": "ipython3",
   "version": "3.4.5"
  }
 },
 "nbformat": 4,
 "nbformat_minor": 2
}
